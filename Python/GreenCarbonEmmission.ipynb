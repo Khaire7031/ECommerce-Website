{
 "cells": [
  {
   "cell_type": "code",
   "execution_count": 10,
   "id": "f6f84fcf-1d99-4477-81c7-88e5b8915ef9",
   "metadata": {},
   "outputs": [],
   "source": [
    "# from codecarbon import OfflineEmissionsTracker\n",
    "\n",
    "\n",
    "# def fibonacci_recursive(n):\n",
    "#     if n <= 1:\n",
    "#         return n\n",
    "#     return fibonacci_recursive(n - 1) + fibonacci_recursive(n - 2)\n",
    "\n",
    "# def fibonacci_dp(n):\n",
    "#     fib = [0, 1]\n",
    "#     for i in range(2, n + 1):\n",
    "#         fib.append(fib[i - 1] + fib[i - 2])\n",
    "#     return fib[n]\n",
    "\n",
    "# def main():\n",
    "#     n = 37\n",
    "#     tracker1 = OfflineEmissionsTracker(country_iso_code=\"IND\")\n",
    "#     tracker2 = OfflineEmissionsTracker(country_iso_code=\"IND\")\n",
    "\n",
    "#     print(\"\\n\")\n",
    "#     print(\"Fibonacci Series using Recursive Approach:\")\n",
    "#     tracker1.start()\n",
    "#     for i in range(n):\n",
    "#         print(fibonacci_recursive(i), end=\" \")\n",
    "    \n",
    "#     print(\"\\n\")\n",
    "#     tracker1.stop()\n",
    "\n",
    "\n",
    "#     print(\"\\n----------------------\\n\")\n",
    "\n",
    "#     tracker2.start()\n",
    "#     print(\"Fibonacci Series using Dynamic Programming:\")\n",
    "#     for i in range(n):\n",
    "#         print(fibonacci_dp(i), end=\" \")\n",
    "\n",
    "#     print(\"\\n\")\n",
    "#     tracker2.stop()\n",
    "\n",
    "# if __name__ == \"__main__\":\n",
    "#     main()\n"
   ]
  },
  {
   "cell_type": "code",
   "execution_count": null,
   "id": "e1ec1657-feb0-4725-ac31-c544669f3b1e",
   "metadata": {},
   "outputs": [],
   "source": [
    "tracker1.start()\n",
    "# load ex here \n",
    "https://www.instagram.com/\n",
    "tracker1.stop()"
   ]
  },
  {
   "cell_type": "code",
   "execution_count": null,
   "id": "71a5951b-aeb4-4ad3-af76-7a748bc06549",
   "metadata": {},
   "outputs": [],
   "source": []
  },
  {
   "cell_type": "code",
   "execution_count": null,
   "id": "f51a4d87-47f5-43d0-b9fa-b9b80900f109",
   "metadata": {},
   "outputs": [],
   "source": []
  },
  {
   "cell_type": "code",
   "execution_count": 9,
   "id": "0a23c72d-41b4-4091-bad1-69ad3859df37",
   "metadata": {},
   "outputs": [
    {
     "name": "stderr",
     "output_type": "stream",
     "text": [
      "[codecarbon INFO @ 01:17:05] offline tracker init\n",
      "[codecarbon INFO @ 01:17:05] [setup] RAM Tracking...\n",
      "[codecarbon INFO @ 01:17:05] [setup] GPU Tracking...\n",
      "[codecarbon INFO @ 01:17:05] No GPU found.\n",
      "[codecarbon INFO @ 01:17:05] [setup] CPU Tracking...\n",
      "[codecarbon WARNING @ 01:17:05] No CPU tracking mode found. Falling back on CPU constant mode.\n",
      "[codecarbon INFO @ 01:17:07] CPU Model on constant consumption mode: 11th Gen Intel(R) Core(TM) i3-1125G4 @ 2.00GHz\n",
      "[codecarbon INFO @ 01:17:07] >>> Tracker's metadata:\n",
      "[codecarbon INFO @ 01:17:07]   Platform system: Windows-10-10.0.22621-SP0\n",
      "[codecarbon INFO @ 01:17:07]   Python version: 3.10.2\n",
      "[codecarbon INFO @ 01:17:07]   CodeCarbon version: 2.3.4\n",
      "[codecarbon INFO @ 01:17:07]   Available RAM : 7.747 GB\n",
      "[codecarbon INFO @ 01:17:07]   CPU count: 8\n",
      "[codecarbon INFO @ 01:17:07]   CPU model: 11th Gen Intel(R) Core(TM) i3-1125G4 @ 2.00GHz\n",
      "[codecarbon INFO @ 01:17:07]   GPU count: None\n",
      "[codecarbon INFO @ 01:17:07]   GPU model: None\n",
      "[codecarbon INFO @ 01:17:09] Energy consumed for RAM : 0.000002 kWh. RAM Power : 2.9050111770629883 W\n",
      "[codecarbon INFO @ 01:17:09] Energy consumed for all CPUs : 0.000007 kWh. Total CPU Power : 14.0 W\n",
      "[codecarbon INFO @ 01:17:09] 0.000009 kWh of electricity used since the beginning.\n"
     ]
    },
    {
     "name": "stdout",
     "output_type": "stream",
     "text": [
      "5.67646543350363e-06\n"
     ]
    }
   ],
   "source": [
    "import requests\n",
    "from codecarbon import OfflineEmissionsTracker\n",
    "\n",
    "def fetch_website_info(url):\n",
    "    response = requests.get(url)\n",
    "    return len(response.content)\n",
    "\n",
    "website_url = 'https://www.instagram.com/'\n",
    "tracker = OfflineEmissionsTracker(country_iso_code=\"IND\")\n",
    "tracker.start()\n",
    "    \n",
    "\n",
    "page_size = fetch_website_info(website_url)\n",
    "    \n",
    "emissions: float = tracker.stop()\n",
    "print(emissions)\n",
    "    \n",
    "# Print the estimated carbon emissions based on the fetched information\n",
    "# print(f'Estimated carbon emissions for visiting {website_url}: {tracker.get_emissions()} kgCO2')\n"
   ]
  },
  {
   "cell_type": "code",
   "execution_count": null,
   "id": "5423a908-3776-4697-b53a-39a9ec528919",
   "metadata": {},
   "outputs": [],
   "source": []
  }
 ],
 "metadata": {
  "kernelspec": {
   "display_name": "Python 3 (ipykernel)",
   "language": "python",
   "name": "python3"
  },
  "language_info": {
   "codemirror_mode": {
    "name": "ipython",
    "version": 3
   },
   "file_extension": ".py",
   "mimetype": "text/x-python",
   "name": "python",
   "nbconvert_exporter": "python",
   "pygments_lexer": "ipython3",
   "version": "3.10.2"
  }
 },
 "nbformat": 4,
 "nbformat_minor": 5
}
